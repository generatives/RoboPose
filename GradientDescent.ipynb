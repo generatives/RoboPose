{
 "cells": [
  {
   "cell_type": "code",
   "execution_count": 3,
   "metadata": {},
   "outputs": [],
   "source": [
    "import scipy.stats\n",
    "\n",
    "def probability_of_value(value, dist):\n",
    "    norm = scipy.stats.norm(dist[0], dist[1])\n",
    "    return norm.pdf(value)"
   ]
  },
  {
   "cell_type": "code",
   "execution_count": 4,
   "metadata": {},
   "outputs": [],
   "source": [
    "import numpy as np\n",
    "\n",
    "def naive_gradient(func, p, epsilon):\n",
    "    p_diff = p.copy()\n",
    "    grad = np.zeros(shape=(p.shape[0]))\n",
    "    for dim in range(0, p.shape[0]):\n",
    "        p_diff[dim] = p_diff[dim] + epsilon\n",
    "        high_val = func(p_diff)\n",
    "        p_diff[dim] = p_diff[dim] - 2. * epsilon\n",
    "        low_val = func(p_diff)\n",
    "        grad[dim] = (high_val - low_val) / (2 * epsilon)\n",
    "    return grad"
   ]
  },
  {
   "cell_type": "code",
   "execution_count": 5,
   "metadata": {},
   "outputs": [],
   "source": [
    "headings = [\n",
    "    np.array([270, 2]),\n",
    "    np.array([280, 10])\n",
    "]\n",
    "\n",
    "diffs = {\n",
    "    (0, 1): np.array([20, 5])\n",
    "}\n",
    "\n",
    "def probability_of_estimates(estimates):\n",
    "    probability = 1\n",
    "    for (i, heading_1) in enumerate(headings):\n",
    "        estimate = estimates[i]\n",
    "        probability = probability * probability_of_value(estimate, heading_1)\n",
    "        for (j, heading_2) in enumerate(headings):\n",
    "            if i is not j:\n",
    "                key = (j, i)\n",
    "                if key in diffs:\n",
    "                    diff = diffs[key]\n",
    "                    diff_heading = heading_2 + diff\n",
    "                    probability = probability * probability_of_value(estimate, diff_heading)\n",
    "    return probability\n",
    "\n",
    "def gradient_of_estimates(estimates):\n",
    "    return naive_gradient(probability_of_estimates, estimates, 0.1)"
   ]
  },
  {
   "cell_type": "code",
   "execution_count": 6,
   "metadata": {},
   "outputs": [],
   "source": [
    "def gradient_ascent(gradient, start, learn_rate, n_iter=50, tolerance=1e-06):\n",
    "    vector = start\n",
    "    for _ in range(n_iter):\n",
    "        diff = learn_rate * gradient(vector)\n",
    "        if np.all(np.abs(diff) <= tolerance):\n",
    "            break\n",
    "        vector += diff\n",
    "    print(f\"{n_iter} iterations\")\n",
    "    return vector"
   ]
  },
  {
   "cell_type": "code",
   "execution_count": 10,
   "metadata": {},
   "outputs": [
    {
     "name": "stdout",
     "output_type": "stream",
     "text": [
      "2000 iterations\n"
     ]
    },
    {
     "data": {
      "text/plain": [
       "array([270.        , 286.71130803])"
      ]
     },
     "execution_count": 10,
     "metadata": {},
     "output_type": "execute_result"
    }
   ],
   "source": [
    "gradient_ascent(gradient_of_estimates, np.array([270., 280.]), 1000, 2000)"
   ]
  },
  {
   "cell_type": "code",
   "execution_count": null,
   "metadata": {},
   "outputs": [],
   "source": []
  }
 ],
 "metadata": {
  "kernelspec": {
   "display_name": "Python 3.9.12 ('RoboPose-93SmMfVE')",
   "language": "python",
   "name": "python3"
  },
  "language_info": {
   "codemirror_mode": {
    "name": "ipython",
    "version": 3
   },
   "file_extension": ".py",
   "mimetype": "text/x-python",
   "name": "python",
   "nbconvert_exporter": "python",
   "pygments_lexer": "ipython3",
   "version": "3.9.12"
  },
  "orig_nbformat": 4,
  "vscode": {
   "interpreter": {
    "hash": "6977848c380f49b6543a9ce90286871c4c839064337da47627b6bf46a88066fb"
   }
  }
 },
 "nbformat": 4,
 "nbformat_minor": 2
}
